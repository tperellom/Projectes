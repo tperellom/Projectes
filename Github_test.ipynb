{
  "nbformat": 4,
  "nbformat_minor": 0,
  "metadata": {
    "colab": {
      "name": "Github_test.ipynb",
      "provenance": [],
      "collapsed_sections": [],
      "authorship_tag": "ABX9TyNbaT58Ol0OWVuO/hEO1iAD",
      "include_colab_link": true
    },
    "kernelspec": {
      "name": "python3",
      "display_name": "Python 3"
    }
  },
  "cells": [
    {
      "cell_type": "markdown",
      "metadata": {
        "id": "view-in-github",
        "colab_type": "text"
      },
      "source": [
        "<a href=\"https://colab.research.google.com/github/tperellom/Projectes/blob/develop/Github_test.ipynb\" target=\"_parent\"><img src=\"https://colab.research.google.com/assets/colab-badge.svg\" alt=\"Open In Colab\"/></a>"
      ]
    },
    {
      "cell_type": "markdown",
      "metadata": {
        "id": "5n6MbEP0bLGB"
      },
      "source": [
        "# Basics"
      ]
    },
    {
      "cell_type": "markdown",
      "metadata": {
        "id": "x6HWYdwjbQjD"
      },
      "source": [
        "Packages and libraries"
      ]
    },
    {
      "cell_type": "code",
      "metadata": {
        "id": "x4Fp2Ms8bNra"
      },
      "source": [
        "import pandas as pd\n",
        "import numpy as np\n",
        "import tensorflow as tf\n",
        "from tensorflow import keras\n",
        "\n",
        "%matplotlib inline\n",
        "import matplotlib.pyplot as plt"
      ],
      "execution_count": 3,
      "outputs": []
    },
    {
      "cell_type": "markdown",
      "metadata": {
        "id": "fQnpyVPyvBpI"
      },
      "source": [
        "Example: NN with Keras"
      ]
    },
    {
      "cell_type": "code",
      "metadata": {
        "id": "z4z4IvyMbP9h"
      },
      "source": [
        "# Data:\n",
        "xs = np.array([1, 2, 3, 4, 5, 6], dtype=int)\n",
        "ys = np.array([1.0, 1.5, 2.0, 2.5, 3.0, 3.5], dtype=float)"
      ],
      "execution_count": 4,
      "outputs": []
    },
    {
      "cell_type": "code",
      "metadata": {
        "id": "VJRe9c80bGeK",
        "outputId": "020d082f-b227-43de-ce15-b72fa32b5e81",
        "colab": {
          "base_uri": "https://localhost:8080/",
          "height": 34
        }
      },
      "source": [
        "# Neural network:\n",
        "model = keras.Sequential([\n",
        "    keras.layers.Dense(units=1, input_shape=[1])\n",
        "])\n",
        "\n",
        "# Training\n",
        "model.compile(optimizer='sgd', loss='mean_squared_error')\n",
        "model.fit(xs, ys, epochs=500, verbose = 0)"
      ],
      "execution_count": 9,
      "outputs": [
        {
          "output_type": "execute_result",
          "data": {
            "text/plain": [
              "<tensorflow.python.keras.callbacks.History at 0x7f4d0c985978>"
            ]
          },
          "metadata": {
            "tags": []
          },
          "execution_count": 9
        }
      ]
    },
    {
      "cell_type": "code",
      "metadata": {
        "id": "6BvGLn6MvPAy",
        "outputId": "dc431b34-8e38-49bd-a095-fa17fddaa5f3",
        "colab": {
          "base_uri": "https://localhost:8080/",
          "height": 34
        }
      },
      "source": [
        "xt = np.array([2])\n",
        "model.predict(xt)[0][0]"
      ],
      "execution_count": 12,
      "outputs": [
        {
          "output_type": "execute_result",
          "data": {
            "text/plain": [
              "1.4747465"
            ]
          },
          "metadata": {
            "tags": []
          },
          "execution_count": 12
        }
      ]
    },
    {
      "cell_type": "code",
      "metadata": {
        "id": "l62eEH62vakm"
      },
      "source": [
        ""
      ],
      "execution_count": null,
      "outputs": []
    }
  ]
}