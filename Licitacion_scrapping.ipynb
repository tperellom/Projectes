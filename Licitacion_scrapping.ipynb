{
  "nbformat": 4,
  "nbformat_minor": 0,
  "metadata": {
    "colab": {
      "name": "Licitacion_scrapping.ipynb",
      "provenance": [],
      "collapsed_sections": [],
      "include_colab_link": true
    },
    "kernelspec": {
      "name": "python3",
      "display_name": "Python 3"
    }
  },
  "cells": [
    {
      "cell_type": "markdown",
      "metadata": {
        "id": "view-in-github",
        "colab_type": "text"
      },
      "source": [
        "<a href=\"https://colab.research.google.com/github/tperellom/Projectes/blob/develop/Licitacion_scrapping.ipynb\" target=\"_parent\"><img src=\"https://colab.research.google.com/assets/colab-badge.svg\" alt=\"Open In Colab\"/></a>"
      ]
    },
    {
      "cell_type": "markdown",
      "metadata": {
        "id": "ISH97LpTOCNA"
      },
      "source": [
        "**Basic libraries and packages**"
      ]
    },
    {
      "cell_type": "code",
      "metadata": {
        "id": "OHb7_N7mJ_Mn"
      },
      "source": [
        "import urllib.request\n",
        "from bs4 import BeautifulSoup\n",
        "import re"
      ],
      "execution_count": null,
      "outputs": []
    },
    {
      "cell_type": "markdown",
      "metadata": {
        "id": "FpOQoD5IOKiC"
      },
      "source": [
        "**XML Data and dictionaries**"
      ]
    },
    {
      "cell_type": "code",
      "metadata": {
        "id": "3xJ8VOI_KFCg"
      },
      "source": [
        "# Open url and read the data\n",
        "\n",
        "xml_url = urllib.request.urlopen('https://contrataciondelestado.es/sindicacion/sindicacion_643/licitacionesPerfilesContratanteCompleto3.atom')\n",
        "xml_doc = xml_url.read()"
      ],
      "execution_count": null,
      "outputs": []
    },
    {
      "cell_type": "code",
      "metadata": {
        "id": "sVqr8lGlUxx7"
      },
      "source": [
        "# Parse with BeautifulSoup\n",
        " \n",
        "soup = BeautifulSoup(xml_doc,\"lxml-xml\")"
      ],
      "execution_count": null,
      "outputs": []
    },
    {
      "cell_type": "code",
      "metadata": {
        "id": "3LfnaFT5arIK"
      },
      "source": [
        "# Get the table with the contract types' codes\n",
        "\n",
        "type_url = urllib.request.urlopen('https://contrataciondelestado.es/codice/cl/2.08/ContractCode-2.08.gc')\n",
        "type_doc = type_url.read()\n",
        "type_soup = BeautifulSoup(type_doc,\"lxml-xml\")\n",
        "type_dict = {}\n",
        "for row in type_soup.find_all('Row'):\n",
        "  code = row.find('Value', {'ColumnRef': \"code\"}).text.strip()\n",
        "  name = row.find('Value', {'ColumnRef': \"nombre\"}).text.strip()\n",
        "  type_dict[name] = code\n",
        "\n",
        "inv_type_dict = {v: k for k, v in type_dict.items()}"
      ],
      "execution_count": null,
      "outputs": []
    },
    {
      "cell_type": "code",
      "metadata": {
        "id": "Oq4juTsj7s34"
      },
      "source": [
        "# Get the table with the contract types' codes\n",
        "\n",
        "subtype_works_url = urllib.request.urlopen('https://contrataciondelestado.es/codice/cl/1.04/WorksContractCode-1.04.gc') #'https://contrataciondelestado.es/codice/cl/1.04/CPV2007-1.04.gc'\n",
        "subtype_works_doc = subtype_works_url.read()\n",
        "subtype_works_soup = BeautifulSoup(subtype_works_doc,\"lxml-xml\")\n",
        "subtype_works_dict = {}\n",
        "for row in subtype_works_soup.find_all('Row'):\n",
        "  code = row.find('Value', {'ColumnRef': \"code\"}).text.strip()\n",
        "  name = row.find('Value', {'ColumnRef': \"nombre\"}).text.strip()\n",
        "  name = name.replace('\\n',' ').replace('\\t','')\n",
        "  subtype_works_dict[name] = code\n",
        "\n",
        "inv_subtype_works_dict = {v: k for k, v in subtype_works_dict.items()}"
      ],
      "execution_count": null,
      "outputs": []
    },
    {
      "cell_type": "code",
      "metadata": {
        "id": "ctlC32qhXYXo"
      },
      "source": [
        "# Get the table with the contract types' codes\n",
        "\n",
        "subtype_ser_url = urllib.request.urlopen('https://contrataciondelestado.es/codice/cl/1.04/ServiceContractCode-1.04.gc') #'https://contrataciondelestado.es/codice/cl/1.04/CPV2007-1.04.gc'\n",
        "subtype_ser_doc = subtype_ser_url.read()\n",
        "subtype_ser_soup = BeautifulSoup(subtype_ser_doc,\"lxml-xml\")\n",
        "subtype_ser_dict = {}\n",
        "for row in subtype_ser_soup.find_all('Row'):\n",
        "  code = row.find('Value', {'ColumnRef': \"code\"}).text.strip()\n",
        "  name = row.find('Value', {'ColumnRef': \"nombre\"}).text.strip()\n",
        "  name = name.replace('\\n',' ').replace('\\t','')\n",
        "  subtype_ser_dict[name] = code\n",
        "\n",
        "inv_subtype_ser_dict = {v: k for k, v in subtype_ser_dict.items()}"
      ],
      "execution_count": null,
      "outputs": []
    },
    {
      "cell_type": "code",
      "metadata": {
        "id": "liTy1EEdtCjN"
      },
      "source": [
        "# Get the table with the NUTS' codes\n",
        "\n",
        "nuts_url = urllib.request.urlopen('https://contrataciondelestado.es/codice/cl/2.0/NUTS-2009.gc')\n",
        "nuts_doc = nuts_url.read()\n",
        "nuts_soup = BeautifulSoup(nuts_doc,\"lxml-xml\")\n",
        "nuts_dict = {}\n",
        "for row in nuts_soup.find_all('Row'):\n",
        "  code = row.find('Value', {'ColumnRef': \"code\"}).text.strip()\n",
        "  name = row.find('Value', {'ColumnRef': \"nombre\"}).text.strip()\n",
        "  nuts_dict[name] = code\n",
        "\n",
        "spain_nuts_dict = {k:nuts_dict[k] for k in nuts_dict if re.match('(^ES[\\w]*)', nuts_dict[k])}\n",
        "inv_spain_nuts_dict = {v: k for k, v in spain_nuts_dict.items()}"
      ],
      "execution_count": null,
      "outputs": []
    },
    {
      "cell_type": "code",
      "metadata": {
        "id": "3GQib9dwqubD"
      },
      "source": [
        "# Get the table with the contract status' codes\n",
        "\n",
        "stat_url = urllib.request.urlopen('https://contrataciondelestado.es/codice/cl/2.04/SyndicationContractFolderStatusCode-2.04.gc')\n",
        "stat_doc = stat_url.read()\n",
        "stat_soup = BeautifulSoup(stat_doc,\"lxml-xml\")\n",
        "stat_dict = {}\n",
        "for row in stat_soup.find_all('Row'):\n",
        "  code = row.find('Value', {'ColumnRef': \"code\"}).text.strip()\n",
        "  name = row.find('Value', {'ColumnRef': \"nombre\"}).text.strip()\n",
        "  stat_dict[name] = code\n",
        "\n",
        "stat_dict = {k.upper(): v for k, v in stat_dict.items()}\n",
        "inv_stat_dict = {v: k for k, v in stat_dict.items()}"
      ],
      "execution_count": null,
      "outputs": []
    },
    {
      "cell_type": "markdown",
      "metadata": {
        "id": "6l_ggYcKQVsa"
      },
      "source": [
        "**Selection**"
      ]
    },
    {
      "cell_type": "code",
      "metadata": {
        "id": "nX1lwze-4_Jw",
        "colab": {
          "base_uri": "https://localhost:8080/"
        },
        "outputId": "6484c220-68e9-4003-a7b9-54d807f518f8"
      },
      "source": [
        "print(type_dict)\n",
        "print(spain_nuts_dict)"
      ],
      "execution_count": null,
      "outputs": [
        {
          "output_type": "stream",
          "text": [
            "{'Suministros': '1', 'Servicios': '2', 'Obras': '3', 'Gestión de Servicios Públicos': '21', 'Concesión de Servicios': '22', 'Concesión de Obras Públicas': '31', 'Concesión de Obras': '32', 'Colaboración entre el sector público y sector privado': '40', 'Administrativo especial': '7', 'Privado': '8', 'Patrimonial': '50'}\n",
            "{'ESPAÑA': 'ES', 'NOROESTE': 'ES1', 'Galicia': 'ES11', 'A Coruña': 'ES111', 'Lugo': 'ES112', 'Ourense': 'ES113', 'Pontevedra': 'ES114', 'Principado de Asturias': 'ES12', 'Asturias': 'ES120', 'Cantabria': 'ES130', 'NORESTE': 'ES2', 'País Vasco': 'ES21', 'Álava': 'ES211', 'Guipúzcoa': 'ES212', 'Vizcaya': 'ES213', 'Comunidad Foral de Navarra': 'ES22', 'Navarra': 'ES220', 'La Rioja': 'ES230', 'Aragón': 'ES24', 'Huesca': 'ES241', 'Teruel': 'ES242', 'Zaragoza': 'ES243', 'COMUNIDAD DE MADRID': 'ES3', 'Comunidad de Madrid': 'ES30', 'Madrid': 'ES300', 'CENTRO (E)': 'ES4', 'Castilla y León': 'ES41', 'Ávila': 'ES411', 'Burgos': 'ES412', 'León': 'ES413', 'Palencia': 'ES414', 'Salamanca': 'ES415', 'Segovia': 'ES416', 'Soria': 'ES417', 'Valladolid': 'ES418', 'Zamora': 'ES419', 'Castilla-La Mancha': 'ES42', 'Albacete': 'ES421', 'Ciudad Real': 'ES422', 'Cuenca': 'ES423', 'Guadalajara': 'ES424', 'Toledo': 'ES425', 'Extremadura': 'ES43', 'Badajoz': 'ES431', 'Cáceres': 'ES432', 'ESTE': 'ES5', 'Cataluña': 'ES51', 'Barcelona': 'ES511', 'Girona': 'ES512', 'Lleida': 'ES513', 'Tarragona': 'ES514', 'Comunidad Valenciana': 'ES52', 'Alicante / Alacant': 'ES521', 'Castellón / Castelló': 'ES522', 'Valencia / València': 'ES523', 'Illes Balears': 'ES53', 'Eivissa y Formentera': 'ES531', 'Mallorca': 'ES532', 'Menorca': 'ES533', 'SUR': 'ES6', 'Andalucía': 'ES61', 'Almería': 'ES611', 'Cádiz': 'ES612', 'Córdoba': 'ES613', 'Granada': 'ES614', 'Huelva': 'ES615', 'Jaén': 'ES616', 'Málaga': 'ES617', 'Sevilla': 'ES618', 'Región de Murcia': 'ES62', 'Murcia': 'ES620', 'Ciudad Autónoma de Ceuta': 'ES63', 'Ceuta': 'ES630', 'Ciudad Autónoma de Melilla': 'ES64', 'Melilla': 'ES640', 'CANARIAS': 'ES7', 'Canarias': 'ES70', 'El Hierro': 'ES703', 'Fuerteventura': 'ES704', 'Gran Canaria': 'ES705', 'La Gomera': 'ES706', 'La Palma': 'ES707', 'Lanzarote': 'ES708', 'Tenerife': 'ES709'}\n"
          ],
          "name": "stdout"
        }
      ]
    },
    {
      "cell_type": "code",
      "metadata": {
        "id": "9JvGJ5JZN-Ec"
      },
      "source": [
        "# Criteria:\n",
        "location_criteria = [spain_nuts_dict['Mallorca'], \n",
        "                     spain_nuts_dict['Illes Balears'], \n",
        "                     spain_nuts_dict['Eivissa y Formentera'], \n",
        "                     spain_nuts_dict['Menorca']\n",
        "                     ]\n",
        "\n",
        "contract_type_criteria = [type_dict['Obras'], \n",
        "                          type_dict['Concesión de Obras'], \n",
        "                          type_dict['Concesión de Obras Públicas'],\n",
        "                          type_dict['Gestión de Servicios Públicos'],\n",
        "                          type_dict['Concesión de Servicios']\n",
        "                          ]"
      ],
      "execution_count": null,
      "outputs": []
    },
    {
      "cell_type": "code",
      "metadata": {
        "id": "bSDAO4lJyvpu"
      },
      "source": [
        "# Go across all the entries in the XML soup to find if any satisfies the criteria \n",
        "\n",
        "selected_entries = []\n",
        "for entry in soup.find_all('entry'):\n",
        "\n",
        "  # Contract Status\n",
        "  contract_status = entry.find('cac-place-ext:ContractFolderStatus')\n",
        "  id = contract_status.find('cbc:ContractFolderID').get_text()\n",
        "  \n",
        "  # Procurement project\n",
        "  procurement_project = contract_status.find('cac:ProcurementProject')\n",
        "  name = procurement_project.find('cbc:Name').get_text().strip()\n",
        "\n",
        "  # Contract type\n",
        "  contract_type = procurement_project.find('cbc:TypeCode').get_text()\n",
        "  contract_subtype = procurement_project.find('cbc:SubTypeCode')\n",
        "  contract_subtype_value = ''\n",
        "  if contract_subtype:\n",
        "    contract_subtype_value = contract_subtype.get_text()\n",
        "    if contract_subtype_value in inv_subtype_works_dict.keys():\n",
        "      contract_subtype_value = inv_subtype_works_dict[contract_subtype_value]\n",
        "\n",
        "  # Location\n",
        "  realized_location = procurement_project.find('cac:RealizedLocation')\n",
        "  postal_code = realized_location.find('cbc:PostalZone')\n",
        "  location_code = realized_location.find('cbc:CountrySubentityCode')\n",
        "  postal_code_value = ''\n",
        "  location_code_value = ''\n",
        "  if location_code:\n",
        "    location_code_value = location_code.get_text()\n",
        "  if postal_code:\n",
        "    postal_code_value = postal_code.get_text()\n",
        "\n",
        "  # Check that the location and the contract type match with the criteria.\n",
        "  # If so, register the entry\n",
        "  if location_code_value in location_criteria and contract_type in contract_type_criteria:\n",
        "    # or re.match('^07[\\d]{3}', postal_code_value):\n",
        "\n",
        "    # Status\n",
        "    status = contract_status.find('cbc-place-ext:ContractFolderStatusCode').get_text()\n",
        "\n",
        "    # Budget\n",
        "    budget = procurement_project.find('cac:BudgetAmount')\n",
        "    estimated_budget = budget.find('cbc:EstimatedOverallContractAmount')\n",
        "    estimated_budget_value = ''\n",
        "    if estimated_budget:\n",
        "      estimated_budget_value = estimated_budget.get_text() \n",
        "      estimated_budget_value = '{:,}'.format(float(estimated_budget_value)) + ' ' + estimated_budget.attrs['currencyID']\n",
        "  \n",
        "    # Duration\n",
        "    duration = procurement_project.find('cac:PlannedPeriod')\n",
        "    estimated_duration = duration.find('cbc:DurationMeasure')\n",
        "    estimated_duration_value = ''\n",
        "    if estimated_duration:\n",
        "      estimated_duration_value = estimated_duration.get_text() + ' ' + estimated_duration.attrs['unitCode']\n",
        "    else:\n",
        "      beginning = duration.find('cbc:StartDate')\n",
        "      ending = duration.find('cbc:EndDate')\n",
        "      if beginning and ending:\n",
        "        estimated_duration_value = beginning.get_text() + ' to ' + ending.get_text()\n",
        "\n",
        "    # Entity\n",
        "    entity_name = contract_status.find('cac:PartyName').get_text().strip()\n",
        "\n",
        "    # Tendering process\n",
        "    tender = contract_status.find('cac:TenderingProcess')\n",
        "    tender_deadline = tender.find('cac:TenderSubmissionDeadlinePeriod')\n",
        "    deadline = ''\n",
        "    if tender_deadline:\n",
        "      if tender_deadline.find('cbc:EndDate'):\n",
        "        deadline = tender_deadline.find('cbc:EndDate').get_text()\n",
        "\n",
        "    # Links\n",
        "    legal_doc = contract_status.find('cac:LegalDocumentReference')\n",
        "    if legal_doc:\n",
        "      legal_doc = legal_doc.find('cac:Attachment')\n",
        "    legal_doc_value = ''\n",
        "    if legal_doc:\n",
        "      legal_doc_value = legal_doc.find('cbc:URI').get_text()\n",
        "    \n",
        "    tech_doc = contract_status.find('cac:TechnicalDocumentReference')\n",
        "    tech_doc_value = ''\n",
        "    if tech_doc:\n",
        "      if tech_doc.find('cac:Attachment'):\n",
        "        tech_doc_value = tech_doc.find('cac:Attachment').find('cbc:URI').get_text()\n",
        "\n",
        "    selected_entry = {'ID': id, \n",
        "              'Name': name, \n",
        "              'Entity': entity_name,\n",
        "              'Contract type': inv_type_dict[contract_type], \n",
        "              'Contract subtype': contract_subtype_value,\n",
        "              'Status': inv_stat_dict[status],\n",
        "              'Location': inv_spain_nuts_dict[location_code_value], \n",
        "              'Postal code': postal_code_value, \n",
        "              'Proposal deadline': deadline, \n",
        "              'Estimated budget': estimated_budget_value, \n",
        "              'Estimated duration': estimated_duration_value,\n",
        "              'Legal document link': legal_doc_value,\n",
        "              'Technical document link': tech_doc_value\n",
        "              }\n",
        "    \n",
        "    selected_entries.append(selected_entry)"
      ],
      "execution_count": null,
      "outputs": []
    },
    {
      "cell_type": "code",
      "metadata": {
        "id": "LJBGxBJKt7AL",
        "colab": {
          "base_uri": "https://localhost:8080/"
        },
        "outputId": "ce94b5d1-0aa7-481b-bcb9-cd53deeaf441"
      },
      "source": [
        "selected_entries"
      ],
      "execution_count": null,
      "outputs": [
        {
          "output_type": "execute_result",
          "data": {
            "text/plain": [
              "[{'Contract subtype': 'Construcción',\n",
              "  'Contract type': 'Obras',\n",
              "  'Entity': \"Institut Balear de l'Habitatge\",\n",
              "  'Estimated budget': '5,547,615.36 EUR',\n",
              "  'Estimated duration': '18 MON',\n",
              "  'ID': '46-2020',\n",
              "  'Legal document link': 'https://contrataciondelestado.es/wps/wcm/connect/PLACE_es/Site/area/docAccCmpnt?srv=cmpnt&cmpntname=GetDocumentsById&source=library&DocumentIdParam=a4da5db2-d24e-41be-9bc4-8e044deef70b',\n",
              "  'Location': 'Mallorca',\n",
              "  'Name': 'Obras de ejecución de 43 viviendas de protección pública y aparcamiento en la c/ Brotad, de Palma (Mallorca)',\n",
              "  'Postal code': '07007',\n",
              "  'Proposal deadline': '2021-02-02',\n",
              "  'Status': 'EN PLAZO',\n",
              "  'Technical document link': 'https://contrataciondelestado.es/wps/wcm/connect/PLACE_es/Site/area/docAccCmpnt?srv=cmpnt&cmpntname=GetDocumentsById&source=library&DocumentIdParam=b0788b46-8a0d-4b48-8862-a79298fa3f34'}]"
            ]
          },
          "metadata": {
            "tags": []
          },
          "execution_count": 12
        }
      ]
    },
    {
      "cell_type": "markdown",
      "metadata": {
        "id": "pppi0tKQQaYa"
      },
      "source": [
        "**Mailing selected entries**"
      ]
    },
    {
      "cell_type": "code",
      "metadata": {
        "id": "yiyqXO2PQRRM"
      },
      "source": [
        "import smtplib\n",
        "from email.mime.text import MIMEText"
      ],
      "execution_count": null,
      "outputs": []
    },
    {
      "cell_type": "code",
      "metadata": {
        "id": "FYtckc3svtzi"
      },
      "source": [
        "# Write dictionaries from the selected entries as text in order to mail them:\n",
        "\n",
        "### Plain text ###\n",
        "# total_text = ''\n",
        "# text = ''\n",
        "# for entries in selected_entries:\n",
        "#   for k, v in entries.items():\n",
        "#     text = text + k + ': ' + v + '\\n'\n",
        "#   total_text = total_text + '\\n\\n' + text\n",
        "#   text = ''\n",
        "\n",
        "# text_type = 'plain'\n",
        "\n",
        "\n",
        "### HTML message: ###\n",
        "total_text = ''\n",
        "text = ''\n",
        "for entries in selected_entries:\n",
        "  for k, v in entries.items():\n",
        "    text = text + '<b>' + k + '</b>: ' + v + '<br/>'\n",
        "  total_text = total_text + '<p>' + text + '<br/></p>'\n",
        "  text = ''\n",
        "\n",
        "total_text = '''\n",
        "<h1 style=\"font-family:helvetica\">Licitaciones</h1>\n",
        "<body style=\"line-height:1.8; font-family:helvetica\">''' + total_text + '''</body>'''\n",
        "\n",
        "text_type = 'html'\n",
        "\n",
        "# Set up the message for the mailing API\n",
        "message = MIMEText(total_text, text_type)\n",
        "\n",
        "message['Subject'] = 'Test Subject'\n",
        "message['From'] = \"no-reply <34d7a26d34-20009d@inbox.mailtrap.io>\"\n",
        "message['To'] = \"Test User <roxegid446@ofdyn.com>\"\n",
        "\n",
        "# Send the mail\n",
        "with smtplib.SMTP(\"smtp.mailtrap.io\", 2525) as server:\n",
        "    server.login(\"decdd53a13076f\", \"fe4c52996cc485\")\n",
        "    server.sendmail(message['From'], message['To'], message.as_string())"
      ],
      "execution_count": null,
      "outputs": []
    }
  ]
}