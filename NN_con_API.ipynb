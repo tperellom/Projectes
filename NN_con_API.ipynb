{
  "nbformat": 4,
  "nbformat_minor": 0,
  "metadata": {
    "colab": {
      "name": "NN_con_API.ipynb",
      "provenance": [],
      "collapsed_sections": [],
      "toc_visible": true,
      "include_colab_link": true
    },
    "kernelspec": {
      "display_name": "Python 3",
      "name": "python3"
    }
  },
  "cells": [
    {
      "cell_type": "markdown",
      "metadata": {
        "id": "view-in-github",
        "colab_type": "text"
      },
      "source": [
        "<a href=\"https://colab.research.google.com/github/tperellom/Projectes/blob/develop/NN_con_API.ipynb\" target=\"_parent\"><img src=\"https://colab.research.google.com/assets/colab-badge.svg\" alt=\"Open In Colab\"/></a>"
      ]
    },
    {
      "cell_type": "markdown",
      "metadata": {
        "id": "f863wZgdeZZa"
      },
      "source": [
        "## Libraries and packages"
      ]
    },
    {
      "cell_type": "code",
      "metadata": {
        "id": "QwqjRnN0UiJb"
      },
      "source": [
        "import numpy as np\n",
        "import pandas as pd\n",
        "import tensorflow as tf\n",
        "from tensorflow import keras\n",
        "import matplotlib.pyplot as plt\n",
        "import joblib\n",
        "import os\n",
        "import tensorflow.keras.backend as K"
      ],
      "execution_count": null,
      "outputs": []
    },
    {
      "cell_type": "code",
      "metadata": {
        "id": "RbhywaN5980H",
        "colab": {
          "base_uri": "https://localhost:8080/"
        },
        "outputId": "2c672638-5eb1-4e4d-e540-89940bdf21be"
      },
      "source": [
        "print(tf.__version__)"
      ],
      "execution_count": null,
      "outputs": [
        {
          "output_type": "stream",
          "text": [
            "2.4.0\n"
          ],
          "name": "stdout"
        }
      ]
    },
    {
      "cell_type": "code",
      "metadata": {
        "id": "IvXVEo4a94ej"
      },
      "source": [
        "from io import BytesIO\n",
        "from PIL import Image\n",
        "import base64\n",
        "import io\n",
        "import cv2"
      ],
      "execution_count": null,
      "outputs": []
    },
    {
      "cell_type": "code",
      "metadata": {
        "colab": {
          "base_uri": "https://localhost:8080/"
        },
        "id": "zapM0TTIvOlb",
        "outputId": "aed2f3ec-f056-4b25-f7c9-773522099c9a"
      },
      "source": [
        "!pip install flask-ngrok"
      ],
      "execution_count": null,
      "outputs": [
        {
          "output_type": "stream",
          "text": [
            "Collecting flask-ngrok\n",
            "  Downloading https://files.pythonhosted.org/packages/af/6c/f54cb686ad1129e27d125d182f90f52b32f284e6c8df58c1bae54fa1adbc/flask_ngrok-0.0.25-py3-none-any.whl\n",
            "Requirement already satisfied: requests in /usr/local/lib/python3.6/dist-packages (from flask-ngrok) (2.23.0)\n",
            "Requirement already satisfied: Flask>=0.8 in /usr/local/lib/python3.6/dist-packages (from flask-ngrok) (1.1.2)\n",
            "Requirement already satisfied: idna<3,>=2.5 in /usr/local/lib/python3.6/dist-packages (from requests->flask-ngrok) (2.10)\n",
            "Requirement already satisfied: urllib3!=1.25.0,!=1.25.1,<1.26,>=1.21.1 in /usr/local/lib/python3.6/dist-packages (from requests->flask-ngrok) (1.24.3)\n",
            "Requirement already satisfied: chardet<4,>=3.0.2 in /usr/local/lib/python3.6/dist-packages (from requests->flask-ngrok) (3.0.4)\n",
            "Requirement already satisfied: certifi>=2017.4.17 in /usr/local/lib/python3.6/dist-packages (from requests->flask-ngrok) (2020.11.8)\n",
            "Requirement already satisfied: Jinja2>=2.10.1 in /usr/local/lib/python3.6/dist-packages (from Flask>=0.8->flask-ngrok) (2.11.2)\n",
            "Requirement already satisfied: Werkzeug>=0.15 in /usr/local/lib/python3.6/dist-packages (from Flask>=0.8->flask-ngrok) (1.0.1)\n",
            "Requirement already satisfied: click>=5.1 in /usr/local/lib/python3.6/dist-packages (from Flask>=0.8->flask-ngrok) (7.1.2)\n",
            "Requirement already satisfied: itsdangerous>=0.24 in /usr/local/lib/python3.6/dist-packages (from Flask>=0.8->flask-ngrok) (1.1.0)\n",
            "Requirement already satisfied: MarkupSafe>=0.23 in /usr/local/lib/python3.6/dist-packages (from Jinja2>=2.10.1->Flask>=0.8->flask-ngrok) (1.1.1)\n",
            "Installing collected packages: flask-ngrok\n",
            "Successfully installed flask-ngrok-0.0.25\n"
          ],
          "name": "stdout"
        }
      ]
    },
    {
      "cell_type": "code",
      "metadata": {
        "colab": {
          "base_uri": "https://localhost:8080/"
        },
        "id": "QlbuPjhHm78z",
        "outputId": "43af7434-7645-43a2-9e39-c12f0f99e6c4"
      },
      "source": [
        "from google.colab import drive\n",
        "drive.mount('/content/drive/')"
      ],
      "execution_count": null,
      "outputs": [
        {
          "output_type": "stream",
          "text": [
            "Mounted at /content/drive/\n"
          ],
          "name": "stdout"
        }
      ]
    },
    {
      "cell_type": "code",
      "metadata": {
        "id": "IsA1AVfmemsy"
      },
      "source": [
        "!mkdir '/content/templates'"
      ],
      "execution_count": null,
      "outputs": []
    },
    {
      "cell_type": "markdown",
      "metadata": {
        "id": "CGvm7cjd3LfW"
      },
      "source": [
        "## Model"
      ]
    },
    {
      "cell_type": "code",
      "metadata": {
        "id": "Sa6h0vDBVEwn"
      },
      "source": [
        "model_file = \"/content/drive/MyDrive/MSP/model.h5\"\n",
        "\n",
        "model = tf.keras.models.load_model(model_file)"
      ],
      "execution_count": null,
      "outputs": []
    },
    {
      "cell_type": "code",
      "metadata": {
        "id": "5vBoTjU1qXwQ"
      },
      "source": [
        "img_height, img_width = model.input.shape[1], model.input.shape[2]"
      ],
      "execution_count": null,
      "outputs": []
    },
    {
      "cell_type": "code",
      "metadata": {
        "id": "n7bvzOuFvQmD"
      },
      "source": [
        "label_dict = {\n",
        "    '0': 'Class A',\n",
        "    '1': 'Class B',\n",
        "    '2': 'Class C'\n",
        "}"
      ],
      "execution_count": null,
      "outputs": []
    },
    {
      "cell_type": "code",
      "metadata": {
        "id": "G9PYk2GlkpiX"
      },
      "source": [
        "def keras_preprocessing(img_path, img_height, img_width):\n",
        "  img = tf.keras.preprocessing.image.load_img(img_path, target_size = (img_height, img_width))\n",
        "  img = tf.keras.preprocessing.image.img_to_array(img) / 255.\n",
        "  img = np.expand_dims(img, axis=0)\n",
        "  \n",
        "  return img"
      ],
      "execution_count": null,
      "outputs": []
    },
    {
      "cell_type": "code",
      "metadata": {
        "id": "0S24lg5wqPXb"
      },
      "source": [
        "def keras_raw_classifier(imagefile, img_height, img_width):\n",
        "  input = keras_preprocessing(imagefile, img_height, img_width)\n",
        "  output = model.predict(input)\n",
        "  output_label = output.argmax()\n",
        " \n",
        "  return output_label"
      ],
      "execution_count": null,
      "outputs": []
    },
    {
      "cell_type": "code",
      "metadata": {
        "id": "-W7WKizdRxJA"
      },
      "source": [
        "def preprocessing(imagefile, img_height, img_width):\n",
        "  img = imagefile / 255. \n",
        "  img = np.expand_dims(img, axis=0)\n",
        "  \n",
        "  return img"
      ],
      "execution_count": null,
      "outputs": []
    },
    {
      "cell_type": "code",
      "metadata": {
        "id": "AIM1qjj0c5jn"
      },
      "source": [
        "def classifier(imagefile, img_height, img_width):\n",
        "  input = preprocessing(imagefile, img_height, img_width)\n",
        "  output = model.predict(input)\n",
        "  output_label = output.argmax()\n",
        " \n",
        "  return output_label"
      ],
      "execution_count": null,
      "outputs": []
    },
    {
      "cell_type": "markdown",
      "metadata": {
        "id": "6LLZGjlw3E8c"
      },
      "source": [
        "##Browser API"
      ]
    },
    {
      "cell_type": "code",
      "metadata": {
        "id": "dSoTDoCKxb_4"
      },
      "source": [
        "from flask import Flask, request, Response, jsonify, render_template, send_file\n",
        "from flask_ngrok import run_with_ngrok"
      ],
      "execution_count": null,
      "outputs": []
    },
    {
      "cell_type": "code",
      "metadata": {
        "id": "QHQ6QXYS3Te9"
      },
      "source": [
        "html_code = '''\n",
        "<!doctype html>\n",
        "<html>\n",
        "  <head>\n",
        "    <title>Prueba</title>\n",
        "    <style>\n",
        "    \thtml * {\n",
        "   \t\t\tfont-size: 1em !important;\n",
        "   \t\t\tfont-family: Arial !important;\n",
        "\t\t}\n",
        "\t</style>\n",
        "  </head>\n",
        "\n",
        "  <body>\n",
        "  <div>\n",
        "      <h3>Reconocimiento de imágenes</h3>\n",
        "      <p>Subir imagen</p>\n",
        "      <form action=\"\" method=post enctype=multipart/form-data>\n",
        "        <input type=file name=file>\n",
        "        <input type=submit>\n",
        "      </form>\n",
        "  </div>\n",
        "  <div>\n",
        "  \t<h3>Resultado</h3>\n",
        "    <td> <img src=\"data:image/png; base64, {{user_input}}\"> </td>\n",
        "    <td> <p><b>Clasificación:</b> {{result}}</p></td>\n",
        "  </div>\n",
        "  </body>\n",
        "</html>\n",
        "'''"
      ],
      "execution_count": null,
      "outputs": []
    },
    {
      "cell_type": "code",
      "metadata": {
        "id": "AUqftR9S3cVa"
      },
      "source": [
        "Html_file= open(\"/content/templates/index.html\",\"w\")\n",
        "Html_file.write(html_code)\n",
        "Html_file.close()"
      ],
      "execution_count": null,
      "outputs": []
    },
    {
      "cell_type": "code",
      "metadata": {
        "colab": {
          "base_uri": "https://localhost:8080/"
        },
        "id": "mOn6GyBCylDh",
        "outputId": "6bba00c1-e34a-4bbd-8018-e65acaec6a92"
      },
      "source": [
        "# Initialize the Flask application\n",
        "app = Flask(__name__)\n",
        "run_with_ngrok(app)  \n",
        "\n",
        "@app.route('/')\n",
        "def home():\n",
        "    return render_template('index.html')\n",
        "\n",
        "# route http posts to this method\n",
        "@app.route('/', methods=['POST'])\n",
        "def main():\n",
        "    # Load the input image\n",
        "    img = request.files[\"file\"].read()\n",
        "    img = Image.open(BytesIO(img))\n",
        "    img = img.convert('RGB')\n",
        "    img = img.resize((img_height, img_width))\n",
        "    \n",
        "    # Classify the image by means of the neural network\n",
        "    input = np.array(img)\n",
        "    lab = classifier(input, img_height, img_width)\n",
        "    res = label_dict[str(lab)]\n",
        "\n",
        "    # Encode the image for HTML \n",
        "    img_html = cv2.cvtColor(input, cv2.COLOR_RGB2BGR)\n",
        "    _, buffer = cv2.imencode('.png', img_html)\n",
        "    img_dcd = base64.b64encode(buffer).decode('utf-8')\n",
        "\n",
        "    return render_template('index.html', result=res, user_input=img_dcd)\n",
        "    \n",
        "# start flask app\n",
        "if __name__ == '__main__':\n",
        "    app.run()"
      ],
      "execution_count": null,
      "outputs": [
        {
          "output_type": "stream",
          "text": [
            " * Serving Flask app \"__main__\" (lazy loading)\n",
            " * Environment: production\n",
            "\u001b[31m   WARNING: This is a development server. Do not use it in a production deployment.\u001b[0m\n",
            "\u001b[2m   Use a production WSGI server instead.\u001b[0m\n",
            " * Debug mode: off\n"
          ],
          "name": "stdout"
        },
        {
          "output_type": "stream",
          "text": [
            " * Running on http://127.0.0.1:5000/ (Press CTRL+C to quit)\n"
          ],
          "name": "stderr"
        },
        {
          "output_type": "stream",
          "text": [
            " * Running on http://a0e4836f343a.ngrok.io\n",
            " * Traffic stats available on http://127.0.0.1:4040\n"
          ],
          "name": "stdout"
        },
        {
          "output_type": "stream",
          "text": [
            "127.0.0.1 - - [04/Dec/2020 12:59:03] \"\u001b[37mGET / HTTP/1.1\u001b[0m\" 200 -\n",
            "127.0.0.1 - - [04/Dec/2020 12:59:03] \"\u001b[33mGET /favicon.ico HTTP/1.1\u001b[0m\" 404 -\n",
            "127.0.0.1 - - [04/Dec/2020 12:59:11] \"\u001b[37mPOST / HTTP/1.1\u001b[0m\" 200 -\n"
          ],
          "name": "stderr"
        }
      ]
    },
    {
      "cell_type": "markdown",
      "metadata": {
        "id": "DGefU7hroyxL"
      },
      "source": [
        "## Mailing service using smtplib"
      ]
    },
    {
      "cell_type": "code",
      "metadata": {
        "id": "xx9HBknDo1EG"
      },
      "source": [
        "import smtplib\n",
        "from email.mime.text import MIMEText\n",
        "from email.mime.multipart import MIMEMultipart\n",
        "from email.mime.image import MIMEImage\n",
        "from jinja2 import Template"
      ],
      "execution_count": null,
      "outputs": []
    },
    {
      "cell_type": "code",
      "metadata": {
        "id": "USy1-LQtqIyi"
      },
      "source": [
        "def image_classifier(img_file):\n",
        "\n",
        "  res = keras_raw_classifier(img_file, img_height, img_width)\n",
        "\n",
        "  processed_img = tf.keras.preprocessing.image.load_img(img_file, target_size=(img_height, img_width))\n",
        "\n",
        "  # Encode the image for HTML \n",
        "  img_html = cv2.cvtColor(np.array(processed_img), cv2.COLOR_RGB2BGR)\n",
        "  _, buffer = cv2.imencode('.png', img_html)\n",
        "  img_dcd = base64.b64encode(buffer).decode('utf-8')\n",
        "\n",
        "  return (res, img_dcd)"
      ],
      "execution_count": null,
      "outputs": []
    },
    {
      "cell_type": "code",
      "metadata": {
        "id": "WOZPWFLr_0rG"
      },
      "source": [
        "html_message = '''\n",
        "<!doctype html>\n",
        "<html>\n",
        "  <head>\n",
        "    <title>Prueba</title>\n",
        "    <style>\n",
        "    \thtml * {\n",
        "   \t\t\tfont-size: 1em !important;\n",
        "   \t\t\tfont-family: Arial !important;\n",
        "\t\t}\n",
        "\t</style>\n",
        "  </head>\n",
        "\n",
        "  <body>\n",
        "  <div>\n",
        "  \t<h3>Servicio de alerta</h3>\n",
        "    <p>Esto es un mensaje automático generado por el sistema de vigilancia</p>\n",
        "    <p>Por favor, compruebe la siguiente imagen:</p>\n",
        "    <td> <img src=\"data:image/png; base64, {{user_input}}\"> </td>\n",
        "    <td> <p><b>Clasificación:</b> {{result}}</p></td>\n",
        "  </div>\n",
        "  </body>\n",
        "</html>\n",
        "'''"
      ],
      "execution_count": null,
      "outputs": []
    },
    {
      "cell_type": "code",
      "metadata": {
        "id": "xCIz0fkSJMLT"
      },
      "source": [
        "img_file = 'Test1.jpg'\n",
        "x, y = image_classifier(img_file)\n",
        "\n",
        "# If the classification label is 1 or 2, send a message:\n",
        "if x == 1 or x == 2:\n",
        "  x_lab = label_dict[str(x)]\n",
        "\n",
        "  # Mail instance:\n",
        "  mail = MIMEMultipart(\"related\")\n",
        "  mail['Subject'] = 'Test Aviso'\n",
        "  mail['From'] = \"no-reply <7fdd917588-15db0d@inbox.mailtrap.io>\"\n",
        "  mail['To'] = \"Test User <roxegid446@ofdyn.com>\"\n",
        "\n",
        "  # Jinja2 for html template\n",
        "  main_template = Template(html_message)\n",
        "  html = main_template.render(result=x_lab, user_input=y)\n",
        "  msg_html = MIMEText(html, 'html')\n",
        "  mail.attach(msg_html)\n",
        "\n",
        "  # Send the mail\n",
        "  with smtplib.SMTP(\"smtp.mailtrap.io\", 2525) as server:\n",
        "    server.login(\"6176c96091480a\", \"1107e733c3efa7\")\n",
        "    server.sendmail(mail['From'], mail['To'], mail.as_string().encode())\n",
        "    server.quit()"
      ],
      "execution_count": null,
      "outputs": []
    }
  ]
}